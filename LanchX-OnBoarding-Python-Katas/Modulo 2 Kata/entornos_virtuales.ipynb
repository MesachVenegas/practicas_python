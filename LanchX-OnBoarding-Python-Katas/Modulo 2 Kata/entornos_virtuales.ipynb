{
 "cells": [
  {
   "cell_type": "markdown",
   "metadata": {},
   "source": [
    "# Ejercicio - Crear un paquete\n",
    "___\n",
    "\n",
    "En este ejercicio, aprenderás a utilizar entornos virtuales como una forma para no afectar a los paquetes instalados globalmente u otros programas que se ejecutan en tu máquina.\n",
    "\n",
    "Para este ejercicio es necesario que lo ejecutes desde la terminal, línea de comandos, cmd, consola, cli, etc. de tu computadora, sé que es desafiante, pero no te preocupes ¡¡Sé que puedes lograrlo!!\n",
    "\n",
    "\n",
    "## Crear un entorno virtual.\n",
    "___\n",
    "* Ejecutar en su terminal ```python -m env  my-env```\n",
    "\n",
    "![cmd](images/creacion_env.png)\n",
    "\n",
    "* Ejecuta el comando para activar el entorno virtual.\n",
    "\n",
    "![activacion](images/activacion_env.png)\n",
    "\n",
    "## Instalar una biblioteca\n",
    "___\n",
    "Ahora que estás dentro de tu entorno virtual, puedes instalar una biblioteca y saber que la biblioteca solo existirá en el entorno virtual.\n",
    "\n",
    "* Ejecuta el comando ```pip freeze``` para ver las bibliotecas instaladas en tu entorno.\n",
    "\n",
    "![freeze](images/freeze.png)\n",
    "\n",
    "No deberías obtener respuesta. A continuación, veamos cómo cambia la salida de pip freeze cuando se agrega una biblioteca (un paquete).\n",
    "\n",
    "* Ejecuta el comando ```pip install``` para instalar una biblioteca:\n",
    "\n",
    "![install](images/dateutil_install.png)\n",
    "\n",
    "* Vuelve a ejecutar ```pip freeze``` para ver cómo ha cambiado tu lista de bibliotecas:\n",
    "\n",
    "![freeze2](images/freeze2.png)\n",
    "\n",
    "\n",
    "## Desactivando el entorno virtual.\n",
    "___\n",
    "Hasta ahora, has creado un entorno virtual y le has agregado un paquete. Sin embargo, es posible que estés trabajando en varios proyectos de Python y necesites cambiar entre ellos. Para hacer eso, debes salir (desactivar) tu entorno virtual.\n",
    "\n",
    "* Ejecuta el comando deactivate:\n",
    "\n",
    "![deactivate](images/deactivate.png)"
   ]
  }
 ],
 "metadata": {
  "interpreter": {
   "hash": "200bccd1a5588aba22dffd98aa58505d17a805c79c01fa373c88b9256dc1e90d"
  },
  "kernelspec": {
   "display_name": "Python 3.10.2 ('my-env': venv)",
   "language": "python",
   "name": "python3"
  },
  "language_info": {
   "name": "python",
   "version": "3.10.2"
  },
  "orig_nbformat": 4
 },
 "nbformat": 4,
 "nbformat_minor": 2
}
