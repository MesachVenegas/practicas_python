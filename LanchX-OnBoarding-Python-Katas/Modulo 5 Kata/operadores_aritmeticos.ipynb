{
 "cells": [
  {
   "cell_type": "markdown",
   "metadata": {},
   "source": [
    "# Ejercicio 1 - Utilizar operadores aritméticos.\n",
    "___\n",
    "\n",
    "### Operadores aritméticos en python.\n",
    "Python proporciona operadores aritméticos comunes para que puedas realizar operaciones matemáticas en tu código. Estos incluyen las cuatro operaciones principales de suma, resta, multiplicación y división.\n",
    "\n",
    "Exploremos cómo podemos crear un programa que pueda calcular la distancia entre dos planetas. Comenzaremos usando dos distancias de planetas: Tierra (149.597.870 km) y Júpiter (778.547.200 km).\n"
   ]
  },
  {
   "cell_type": "code",
   "execution_count": 40,
   "metadata": {},
   "outputs": [],
   "source": [
    "# Crear variables para almacenar las dos distancias\n",
    "earth_distance = 149597870\n",
    "jupyter_distance = 778547200"
   ]
  },
  {
   "cell_type": "markdown",
   "metadata": {},
   "source": [
    "### Realizar la operación\n",
    "\n",
    "Con los valores obtenidos, es el momento de añadir el código para realizar la operación. Restarás el primer planeta del segundo para determinar la distancia en kilómetros. A continuación, puedes convertir la distancia del kilómetro en millas multiplicándola por 1.609344."
   ]
  },
  {
   "cell_type": "markdown",
   "metadata": {},
   "source": [
    "### Prueba tu proyecto\n",
    "\n",
    "Con el código creado, ejecuta el notebook para obtener el resultado. Deberías recibir lo siguiente:\n",
    "\n",
    "* 628949330\n",
    "* 390577534"
   ]
  },
  {
   "cell_type": "code",
   "execution_count": 41,
   "metadata": {},
   "outputs": [
    {
     "name": "stdout",
     "output_type": "stream",
     "text": [
      "628949330\n",
      "390577534\n"
     ]
    }
   ],
   "source": [
    "# Calcular la distancia entre planetas.\n",
    "distance_km = jupyter_distance - earth_distance\n",
    "print(distance_km)\n",
    "\n",
    "# distance_milles = distance_km * 1.609344 ??\n",
    "# 1 milla = 0.621\n",
    "distance_milles = distance_km * 0.621\n",
    "print(round(distance_milles))"
   ]
  },
  {
   "cell_type": "markdown",
   "metadata": {},
   "source": [
    "___\n",
    "## Ejercicio 2: Convierte cadenas en números y usa valores absolutos.\n",
    "Con frecuencia, deberás convertir los valores de cadena en números para realizar correctamente diferentes operaciones o determinar el valor absoluto de un número.\n",
    "\n",
    "Para crear nuestra aplicación, queremos leer la distancia del sol para dos planetas, y luego mostrar la distancia entre los planetas. Haremos esto usando input para leer los valores, int para convertir a entero y luego abs para convertir el resultado en su valor absoluto.\n",
    "\n",
    "Lee los valores\n",
    "Usando input, agrega el código para leer la distancia del sol para cada planeta, considerando 2 planetas."
   ]
  },
  {
   "cell_type": "code",
   "execution_count": 42,
   "metadata": {},
   "outputs": [],
   "source": [
    "# Almacenar las entradas del usuario\n",
    "first_distance = input(\"Distancia del 1er planeta: \")\n",
    "second_distance = input(\"Distancia del 2do planeta: \")"
   ]
  },
  {
   "cell_type": "markdown",
   "metadata": {},
   "source": [
    "### Convertir a número\n",
    "Debido a que ```input``` devuelve valores de cadena, necesitamos convertirlos en números. Para nuestro ejemplo, usaremos ```int```"
   ]
  },
  {
   "cell_type": "code",
   "execution_count": 43,
   "metadata": {},
   "outputs": [],
   "source": [
    "first_distance = int(first_distance)\n",
    "second_distance = int(second_distance)"
   ]
  },
  {
   "cell_type": "markdown",
   "metadata": {},
   "source": [
    "### Realizar el cálculo y convertir a valor absoluto\n",
    "Con los valores almacenados como números, ahora puedes agregar el código para realizar el cálculo, restando el primer planeta del segundo. Debido a que el segundo planeta podría ser un número mayor, usarás ```abs``` para convertirlo a un valor absoluto. También agregarás el código para mostrar el resultado en millas multiplicando la distancia del kilómetro por 0.621"
   ]
  },
  {
   "cell_type": "code",
   "execution_count": null,
   "metadata": {},
   "outputs": [
    {
     "name": "stdout",
     "output_type": "stream",
     "text": [
      "Kilometros: 50300000\n",
      "Millas: 31236300\n"
     ]
    }
   ],
   "source": [
    "# Realizar el cálculo y determinar el valor absoluto\n",
    "result_km = second_distance - first_distance\n",
    "print(f\"Kilometros: {abs(result_km)}\")\n",
    "\n",
    "# Convertir de KM a Millas\n",
    "result_mi = result_km * 0.621\n",
    "print(f\"Millas: {abs(round(result_mi))}\")"
   ]
  },
  {
   "cell_type": "markdown",
   "metadata": {},
   "source": [
    "### Prueba tu aplicación\n",
    "Para probar el proyecto, ejecuta tu notebook. En la parte superior de vscode surgirá un cuadro de diálogo para que proporciones las distancias. Puede utilizar los datos de la tabla siguiente:\n",
    "\n",
    "Planeta\t| Distancia al sol\n",
    "--------|-----------------\n",
    "Mercurio|\t57900000\n",
    "Venus |\t108200000\n",
    "Tierra |\t149600000\n",
    "Marte |\t227900000\n",
    "Júpiter |\t778600000\n",
    "Saturno |\t1433500000\n",
    "Urano |\t2872500000\n",
    "Neptuno |\t4495100000"
   ]
  },
  {
   "cell_type": "code",
   "execution_count": 46,
   "metadata": {},
   "outputs": [
    {
     "name": "stdout",
     "output_type": "stream",
     "text": [
      "Distancia en Kilometros: 3061600000\n",
      "Distancia en Millas: 1901253600\n"
     ]
    }
   ],
   "source": [
    "first_distance = int(input('Ingresa la primer distancia: '))\n",
    "second_distance = int(input('Ingresa la segunda distancia: '))\n",
    "\n",
    "result_km = second_distance - first_distance\n",
    "print(f\"Distancia en Kilometros: {round(abs(result_km))}\")\n",
    "\n",
    "result_mi = result_km * 0.621\n",
    "print(f\"Distancia en Millas: {round(abs(result_mi))}\")"
   ]
  }
 ],
 "metadata": {
  "interpreter": {
   "hash": "964692f11ca442c058d50af48a56d38285b2636afb6ae19457d2fcf8017e36f2"
  },
  "kernelspec": {
   "display_name": "Python 3.10.2 64-bit",
   "language": "python",
   "name": "python3"
  },
  "language_info": {
   "codemirror_mode": {
    "name": "ipython",
    "version": 3
   },
   "file_extension": ".py",
   "mimetype": "text/x-python",
   "name": "python",
   "nbconvert_exporter": "python",
   "pygments_lexer": "ipython3",
   "version": "3.10.2"
  },
  "orig_nbformat": 4
 },
 "nbformat": 4,
 "nbformat_minor": 2
}
